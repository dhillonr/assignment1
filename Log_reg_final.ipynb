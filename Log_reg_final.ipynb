{
 "cells": [
  {
   "cell_type": "code",
   "execution_count": 1,
   "metadata": {},
   "outputs": [
    {
     "data": {
      "image/png": "[encoded data removed]",
      "text/plain": [
       "<matplotlib.figure.Figure at 0x7f2e544455d0>"
      ]
     },
     "metadata": {},
     "output_type": "display_data"
    }
   ],
   "source": [
    "import numpy as np\n",
    "import pandas as pd\n",
    "from sklearn.preprocessing import StandardScaler\n",
    "from sklearn.preprocessing import LabelEncoder\n",
    "from sklearn.preprocessing import StandardScaler\n",
    "scaler = StandardScaler()\n",
    "le = LabelEncoder()\n",
    "\n",
    "df = pd.read_csv('titanic_train.csv')   #preprocessing of data \n",
    "Y = df.Survived\n",
    "df2 = df.drop(['PassengerId','Name','Ticket'],axis = 1)\n",
    "df2.Age = df2.Age.fillna(df2.Age.mean())\n",
    "df2.Cabin = df2.Cabin.fillna(0)\n",
    "df2.Cabin = le.fit_transform(df2.Cabin)\n",
    "df2.Embarked = le.fit_transform(df2.Embarked)\n",
    "df2.Sex = le.fit_transform(df2.Sex)\n",
    "\n",
    "\n",
    "X = df2                                #defining variables                                         \n",
    "Y = Y.as_matrix()\n",
    "X = X.as_matrix()\n",
    "Y = Y.reshape(-1,1)\n",
    "b = 0\n",
    "X = scaler.fit_transform(X)            #scaling                               \n",
    " \n",
    "\n",
    "def sigm (Z):                          #sigmoid functn  \n",
    "    return 1/(np.exp(-Z)+1)\n",
    "\n",
    "\n",
    "def log_reg (X ,Y,lr,b,iterations):    # logistic regression functn   lr = learning rate \n",
    "    (m,n) = X.shape\n",
    "    W = np.zeros(n)\n",
    "    W = W.reshape(-1,1)\n",
    "    cost = np.zeros(iterations)\n",
    "    for i in range(iterations):        #  loop for iterations \n",
    "        Z = X.dot(W) + b\n",
    "        A = sigm(Z)\n",
    "        dZ = A - Y\n",
    "        dW = X.T.dot(Z)/m\n",
    "        db = np.sum(dZ)/m\n",
    "        W = W - dW*lr\n",
    "        b = b - db*lr\n",
    "        cost[i] = np.sum((Y.T.dot(np.log(A))+(1-Y).T.dot(np.log(1-A)))*(-1/m))\n",
    "    return cost,W,b\n",
    "\n",
    "\n",
    "\n",
    "cost,W,b = log_reg(X,Y,0.1,b,1000)  #functn call on input \n",
    "\n",
    "import matplotlib.pyplot as plt        # plot Cost vs no. of iterarions\n",
    "plt.plot(np.arange(len(cost)),cost)\n",
    "plt.xlabel(\"No. of  iterations\")\n",
    "plt.ylabel(\"Cost\")\n",
    "plt.show()\n"
   ]
  },
  {
   "cell_type": "code",
   "execution_count": null,
   "metadata": {
    "collapsed": true
   },
   "outputs": [],
   "source": []
  },
  {
   "cell_type": "code",
   "execution_count": null,
   "metadata": {
    "collapsed": true
   },
   "outputs": [],
   "source": []
  }
 ],
 "metadata": {
  "kernelspec": {
   "display_name": "Python 2",
   "language": "python",
   "name": "python2"
  },
  "language_info": {
   "codemirror_mode": {
    "name": "ipython",
    "version": 2
   },
   "file_extension": ".py",
   "mimetype": "text/x-python",
   "name": "python",
   "nbconvert_exporter": "python",
   "pygments_lexer": "ipython2",
   "version": "2.7.14"
  }
 },
 "nbformat": 4,
 "nbformat_minor": 2
}
