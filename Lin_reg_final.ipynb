{
 "cells": [
  {
   "cell_type": "code",
   "execution_count": 1,
   "metadata": {},
   "outputs": [
    {
     "data": {
      "image/png": "[encoded data removed]",
      "text/plain": [
       "<matplotlib.figure.Figure at 0x7f6587883f50>"
      ]
     },
     "metadata": {},
     "output_type": "display_data"
    }
   ],
   "source": [
    "import numpy as np\n",
    "import pandas as pd\n",
    "from sklearn.preprocessing import StandardScaler\n",
    "scaler = StandardScaler()\n",
    "\n",
    "\n",
    "\n",
    "df = pd.read_csv('winequality-red.csv',delimiter = ';')  #preprocessing of data\n",
    "\n",
    "\n",
    "Y = df.quality                                           #defining variables \n",
    "X = df.iloc[:,:11]\n",
    "Y = Y.as_matrix()\n",
    "X = X.as_matrix()\n",
    "X = np.insert(X, 0, 1, axis=1)\n",
    "X = scaler.fit_transform(X)                              #scaling\n",
    "Y = Y.reshape(-1,1)\n",
    "\n",
    "\n",
    "cost = np.zeros(1000)\n",
    "\n",
    "def lin_reg(X ,Y ,lr ,iterations ):                     # linear regression functn   lr = learning rate \n",
    "    (m,n) = X.shape\n",
    "    W = np.zeros(n)\n",
    "    W = W.reshape(-1,1)\n",
    "    cost = np.zeros(iterations)\n",
    "    for i in range (iterations):                        #  loop for iterations \n",
    "        loss = X.dot(W)-Y\n",
    "        W = W - (X.T.dot(loss))*(lr/m)\n",
    "        cost[i] = (0.5/m)*np.sum(np.square(loss))\n",
    "    return cost , W\n",
    "\n",
    "\n",
    "cost , W = lin_reg(X ,Y ,0.1 ,1000)                    #functn call on input\n",
    "\n",
    "\n",
    "import matplotlib.pyplot as plt                         # plot Cost vs no. of iterarions\n",
    "plt.plot(np.arange(len(cost)),cost)\n",
    "plt.xlabel(\"No. of iterations\")\n",
    "plt.ylabel(\"Cost\")\n",
    "plt.show()\n",
    "\n",
    "\n"
   ]
  },
  {
   "cell_type": "code",
   "execution_count": null,
   "metadata": {
    "collapsed": true
   },
   "outputs": [],
   "source": []
  }
 ],
 "metadata": {
  "kernelspec": {
   "display_name": "Python 2",
   "language": "python",
   "name": "python2"
  },
  "language_info": {
   "codemirror_mode": {
    "name": "ipython",
    "version": 2
   },
   "file_extension": ".py",
   "mimetype": "text/x-python",
   "name": "python",
   "nbconvert_exporter": "python",
   "pygments_lexer": "ipython2",
   "version": "2.7.14"
  }
 },
 "nbformat": 4,
 "nbformat_minor": 2
}
